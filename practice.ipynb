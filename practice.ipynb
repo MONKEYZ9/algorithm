{
 "cells": [
  {
   "cell_type": "code",
   "execution_count": 2,
   "metadata": {},
   "outputs": [],
   "source": [
    "import sqlite3\r\n",
    "import os"
   ]
  },
  {
   "cell_type": "code",
   "execution_count": 3,
   "metadata": {},
   "outputs": [],
   "source": [
    "# 작업 폴더로 이동한다.\r\n",
    "# 데이터 파일은 이미 올려져 있어야 한다.\r\n",
    "os.chdir(\"C:\\\\Users\\\\mingzzang\\\\Desktop\\\\빅데이터\\\\01_SQL과 데이터 베이스_업데이트 4/database/\")"
   ]
  },
  {
   "cell_type": "code",
   "execution_count": 12,
   "metadata": {},
   "outputs": [],
   "source": [
    "# SQLite 에 연결 & Cursor 생성.\r\n",
    "conn = sqlite3.connect(\"scratch.db\")\r\n",
    "cur = conn.cursor()"
   ]
  },
  {
   "cell_type": "code",
   "execution_count": 13,
   "metadata": {},
   "outputs": [],
   "source": [
    "# MySQL 테이블 생성.\r\n",
    "sql = \"CREATE TABLE IF NOT EXISTS test ( a INT, b TEXT, c TEXT );\"\r\n",
    "cur.execute(sql);\r\n",
    "conn.commit();"
   ]
  },
  {
   "cell_type": "code",
   "execution_count": 14,
   "metadata": {},
   "outputs": [],
   "source": [
    "# \"test\" 테이블에 행 추가.\r\n",
    "sql = \"INSERT INTO test VALUES ( ?, ?, ? );\"      # ?를 placeholder로 사용!\r\n",
    "x = [1, \"Hello\", \"World\"]                        # 삽입될 내용.\r\n",
    "cur.execute(sql,x);                                # 실행!\r\n",
    "conn.commit();"
   ]
  },
  {
   "cell_type": "code",
   "execution_count": 15,
   "metadata": {},
   "outputs": [],
   "source": [
    "# \"test\" 테이블에 행 계속 추가.\r\n",
    "sqls = [\"INSERT INTO test VALUES ( 2, 'This', 'Right here!' );\", \r\n",
    "        \"INSERT INTO test ( b, c ) VALUES ( 'That', 'Over there!' );\",\r\n",
    "        \"INSERT INTO test ( a, b, c ) SELECT id, name, description FROM item;\"] \r\n",
    "for a_sql in sqls:\r\n",
    "    cur.execute(a_sql);\r\n",
    "    conn.commit();"
   ]
  },
  {
   "cell_type": "code",
   "execution_count": 16,
   "metadata": {},
   "outputs": [
    {
     "data": {
      "text/plain": [
       "[(1, 'Hello', 'World'),\n",
       " (2, 'This', 'Right here!'),\n",
       " (None, 'That', 'Over there!'),\n",
       " (1, 'Box of 64 Pixels', '64 RGB pixels in a decorative box'),\n",
       " (2, 'Sense of Humor', 'Especially dry. Imported from England.'),\n",
       " (3, 'Beauty', 'Inner beauty. No cosmetic surgery required!'),\n",
       " (4, 'Bar Code', 'Unused. In original packaging.')]"
      ]
     },
     "execution_count": 16,
     "metadata": {},
     "output_type": "execute_result"
    }
   ],
   "source": [
    "# 테이블 내용 보기.\r\n",
    "sql = \"SELECT * FROM test\"\r\n",
    "cur.execute(sql);\r\n",
    "res = cur.fetchall() #fetchall() 는 한번만 하면 된다. \r\n",
    "res"
   ]
  },
  {
   "cell_type": "code",
   "execution_count": 17,
   "metadata": {},
   "outputs": [
    {
     "data": {
      "text/html": [
       "<div>\n",
       "<style scoped>\n",
       "    .dataframe tbody tr th:only-of-type {\n",
       "        vertical-align: middle;\n",
       "    }\n",
       "\n",
       "    .dataframe tbody tr th {\n",
       "        vertical-align: top;\n",
       "    }\n",
       "\n",
       "    .dataframe thead th {\n",
       "        text-align: right;\n",
       "    }\n",
       "</style>\n",
       "<table border=\"1\" class=\"dataframe\">\n",
       "  <thead>\n",
       "    <tr style=\"text-align: right;\">\n",
       "      <th></th>\n",
       "      <th>0</th>\n",
       "      <th>1</th>\n",
       "      <th>2</th>\n",
       "    </tr>\n",
       "  </thead>\n",
       "  <tbody>\n",
       "    <tr>\n",
       "      <th>0</th>\n",
       "      <td>1.0</td>\n",
       "      <td>Hello</td>\n",
       "      <td>World</td>\n",
       "    </tr>\n",
       "    <tr>\n",
       "      <th>1</th>\n",
       "      <td>2.0</td>\n",
       "      <td>This</td>\n",
       "      <td>Right here!</td>\n",
       "    </tr>\n",
       "    <tr>\n",
       "      <th>2</th>\n",
       "      <td>NaN</td>\n",
       "      <td>That</td>\n",
       "      <td>Over there!</td>\n",
       "    </tr>\n",
       "    <tr>\n",
       "      <th>3</th>\n",
       "      <td>1.0</td>\n",
       "      <td>Box of 64 Pixels</td>\n",
       "      <td>64 RGB pixels in a decorative box</td>\n",
       "    </tr>\n",
       "    <tr>\n",
       "      <th>4</th>\n",
       "      <td>2.0</td>\n",
       "      <td>Sense of Humor</td>\n",
       "      <td>Especially dry. Imported from England.</td>\n",
       "    </tr>\n",
       "    <tr>\n",
       "      <th>5</th>\n",
       "      <td>3.0</td>\n",
       "      <td>Beauty</td>\n",
       "      <td>Inner beauty. No cosmetic surgery required!</td>\n",
       "    </tr>\n",
       "    <tr>\n",
       "      <th>6</th>\n",
       "      <td>4.0</td>\n",
       "      <td>Bar Code</td>\n",
       "      <td>Unused. In original packaging.</td>\n",
       "    </tr>\n",
       "  </tbody>\n",
       "</table>\n",
       "</div>"
      ],
      "text/plain": [
       "     0                 1                                            2\n",
       "0  1.0             Hello                                        World\n",
       "1  2.0              This                                  Right here!\n",
       "2  NaN              That                                  Over there!\n",
       "3  1.0  Box of 64 Pixels            64 RGB pixels in a decorative box\n",
       "4  2.0    Sense of Humor       Especially dry. Imported from England.\n",
       "5  3.0            Beauty  Inner beauty. No cosmetic surgery required!\n",
       "6  4.0          Bar Code               Unused. In original packaging."
      ]
     },
     "execution_count": 17,
     "metadata": {},
     "output_type": "execute_result"
    }
   ],
   "source": [
    "import pandas as pd\r\n",
    "\r\n",
    "df_new  = pd.DataFrame(data=res)\r\n",
    "df_new"
   ]
  },
  {
   "cell_type": "code",
   "execution_count": 10,
   "metadata": {},
   "outputs": [],
   "source": [
    "sql = \"DROP TABLE test;\"\r\n",
    "cur.execute(sql);\r\n",
    "conn.commit()"
   ]
  },
  {
   "cell_type": "code",
   "execution_count": 11,
   "metadata": {},
   "outputs": [],
   "source": [
    "conn.close()"
   ]
  }
 ],
 "metadata": {
  "interpreter": {
   "hash": "473a733fa75d3caf7e6d3c6c4b30480b56102ef8a0ba4c2db92fdbb905170b2b"
  },
  "kernelspec": {
   "display_name": "Python 3.8.8 64-bit ('base': conda)",
   "name": "python3"
  },
  "language_info": {
   "codemirror_mode": {
    "name": "ipython",
    "version": 3
   },
   "file_extension": ".py",
   "mimetype": "text/x-python",
   "name": "python",
   "nbconvert_exporter": "python",
   "pygments_lexer": "ipython3",
   "version": "3.8.8"
  },
  "orig_nbformat": 4
 },
 "nbformat": 4,
 "nbformat_minor": 2
}
{
 "cells": [
  {
   "cell_type": "code",
   "execution_count": null,
   "source": [
    "def run_cmd_with_stack(cmd, stack):\r\n",
    "    cmd_type = cmd[0]\r\n",
    "    # cmd_type, num = cmd\r\n",
    "\r\n",
    "    if cmd_type == \"push\":\r\n",
    "        _, num = cmd # num = cmd[1]\r\n",
    "        stack.append(num)\r\n",
    "    elif cmd_type == \"pop\":\r\n",
    "        if len(stack) > 0:\r\n",
    "            print(stack.pop())\r\n",
    "        else:\r\n",
    "            print(-1)\r\n",
    "\r\n",
    "        # try:\r\n",
    "        #     print(stack.pop())\r\n",
    "        # except IndexError:\r\n",
    "        #     print(-1)\r\n",
    "    elif cmd_type == \"size\":\r\n",
    "        print(len(stack))\r\n",
    "    elif cmd_type == \"empty\":\r\n",
    "        if len(stack) > 0:\r\n",
    "            print(0)\r\n",
    "        else:\r\n",
    "            print(1)\r\n",
    "    elif cmd_type == \"top\":\r\n",
    "        if len(stack) > 0:\r\n",
    "            print(stack[-1])\r\n",
    "        else:\r\n",
    "            print(-1)\r\n",
    "     \r\n",
    "    return stack\r\n",
    "\r\n",
    "n = int(input())\r\n",
    "stack = []\r\n",
    "\r\n",
    "for _ in range(n):\r\n",
    "    # \"push 2\".split() => [\"push\", \"2\"]\r\n",
    "    # \"size\".split() => [\"size\"]\r\n",
    "    command = input().split()\r\n",
    "    stack = run_cmd_with_stack(command, stack)\r\n",
    "\r\n",
    "    # result = run_cmd_with_stack(command, stack)\r\n",
    "\r\n",
    "    # if result is not None:\r\n",
    "    #     stack = result"
   ],
   "outputs": [],
   "metadata": {}
  }
 ],
 "metadata": {
  "orig_nbformat": 4,
  "language_info": {
   "name": "python"
  }
 },
 "nbformat": 4,
 "nbformat_minor": 2
}
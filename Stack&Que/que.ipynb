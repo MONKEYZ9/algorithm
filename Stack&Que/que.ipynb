{
 "cells": [
  {
   "cell_type": "code",
   "execution_count": 4,
   "source": [
    "class Que:\r\n",
    "    def __init__(self, n):\r\n",
    "        self.que_list = [None for _ in range(n)]\r\n",
    "        self.que_size = 0\r\n",
    "    \r\n",
    "    def push(self, num):\r\n",
    "        self.que_list[self.size()] = int(num)\r\n",
    "        self.que_size += 1\r\n",
    "    \r\n",
    "    def pop(self):\r\n",
    "        if self.size() > 0:\r\n",
    "            last_val = self.top()\r\n",
    "        \r\n",
    "            self.que_list[self.size()-1] = None\r\n",
    "            \r\n",
    "            self.que_size -= 1\r\n",
    "            return last_val\r\n",
    "        \r\n",
    "        return -1\r\n",
    "    def size(self):\r\n",
    "        return self.que_size\r\n",
    "\r\n",
    "    def empty(self):\r\n",
    "        if self.size() > 0:\r\n",
    "            return 0\r\n",
    "        \r\n",
    "        return 1\r\n",
    "\r\n",
    "    def top(self):\r\n",
    "        if self.size() > 0:\r\n",
    "            return self.que_list[self.size()-1]\r\n",
    "        \r\n",
    "        return -1\r\n",
    "\r\n",
    "def run_cmd_with_stack(new_que, cmd):\r\n",
    "    cmd_type = cmd[0]\r\n",
    "\r\n",
    "    if cmd_type == \"push\":\r\n",
    "        _, num = cmd\r\n",
    "        new_que.push(num)\r\n",
    "    elif cmd_type == \"pop\":\r\n",
    "        print(new_que.pop())\r\n",
    "    elif cmd_type == \"size\":\r\n",
    "        print(new_que.size())\r\n",
    "    elif cmd_type == \"empty\":\r\n",
    "        print(new_que.empty())\r\n",
    "    elif cmd_type == \"top\":\r\n",
    "        print(new_que.top())\r\n",
    "     \r\n",
    "    return new_que\r\n",
    "\r\n",
    "n = int(input())\r\n",
    "new_que = Que(n)\r\n",
    "\r\n",
    "for _ in range(n):\r\n",
    "\r\n",
    "    command = input().split()\r\n",
    "    run_cmd_with_stack(new_que, command)\r\n",
    "    \r\n",
    "    print(new_que.que_list)\r\n",
    "    print(new_que.que_size)"
   ],
   "outputs": [
    {
     "output_type": "error",
     "ename": "ValueError",
     "evalue": "invalid literal for int() with base 10: 'push 123'",
     "traceback": [
      "\u001b[1;31m---------------------------------------------------------------------------\u001b[0m",
      "\u001b[1;31mValueError\u001b[0m                                Traceback (most recent call last)",
      "\u001b[1;32m<ipython-input-4-e8f5c1693be0>\u001b[0m in \u001b[0;36m<module>\u001b[1;34m\u001b[0m\n\u001b[0;32m     50\u001b[0m     \u001b[1;32mreturn\u001b[0m \u001b[0mnew_que\u001b[0m\u001b[1;33m\u001b[0m\u001b[1;33m\u001b[0m\u001b[0m\n\u001b[0;32m     51\u001b[0m \u001b[1;33m\u001b[0m\u001b[0m\n\u001b[1;32m---> 52\u001b[1;33m \u001b[0mn\u001b[0m \u001b[1;33m=\u001b[0m \u001b[0mint\u001b[0m\u001b[1;33m(\u001b[0m\u001b[0minput\u001b[0m\u001b[1;33m(\u001b[0m\u001b[1;33m)\u001b[0m\u001b[1;33m)\u001b[0m\u001b[1;33m\u001b[0m\u001b[1;33m\u001b[0m\u001b[0m\n\u001b[0m\u001b[0;32m     53\u001b[0m \u001b[0mnew_que\u001b[0m \u001b[1;33m=\u001b[0m \u001b[0mQue\u001b[0m\u001b[1;33m(\u001b[0m\u001b[0mn\u001b[0m\u001b[1;33m)\u001b[0m\u001b[1;33m\u001b[0m\u001b[1;33m\u001b[0m\u001b[0m\n\u001b[0;32m     54\u001b[0m \u001b[1;33m\u001b[0m\u001b[0m\n",
      "\u001b[1;31mValueError\u001b[0m: invalid literal for int() with base 10: 'push 123'"
     ]
    }
   ],
   "metadata": {}
  }
 ],
 "metadata": {
  "orig_nbformat": 4,
  "language_info": {
   "name": "python"
  }
 },
 "nbformat": 4,
 "nbformat_minor": 2
}
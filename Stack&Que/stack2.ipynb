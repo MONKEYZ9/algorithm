{
 "cells": [
  {
   "cell_type": "code",
   "execution_count": 1,
   "source": [
    "class Stack:\r\n",
    "    def __init__(self, n):\r\n",
    "        self.stack_list = [None for _ in range(n)]\r\n",
    "        self.stack_size = 0\r\n",
    "    \r\n",
    "    def push(self, num):\r\n",
    "        self.stack_list.append(int(num))\r\n",
    "        self.stack_size += 1\r\n",
    "    \r\n",
    "    def pop(self):\r\n",
    "        if self.size() > 0:\r\n",
    "            self.stack_size -= 1\r\n",
    "            return self.stack_list.pop()\r\n",
    "        \r\n",
    "        return -1\r\n",
    "\r\n",
    "    def size(self):\r\n",
    "        return self.stack_size\r\n",
    "\r\n",
    "    def empty(self):\r\n",
    "        if self.size() > 0:\r\n",
    "            return 0\r\n",
    "        \r\n",
    "        return 1\r\n",
    "\r\n",
    "    def top(self):\r\n",
    "        if self.size() > 0:\r\n",
    "            return self.stack_list[self.size()-1]\r\n",
    "        \r\n",
    "        return -1\r\n",
    "\r\n",
    "def run_cmd_with_stack(new_stack, cmd):\r\n",
    "    cmd_type = cmd[0]\r\n",
    "    # cmd_type, num = cmd\r\n",
    "\r\n",
    "    if cmd_type == \"push\":\r\n",
    "        _, num = cmd\r\n",
    "        new_stack.push(num)\r\n",
    "    elif cmd_type == \"pop\":\r\n",
    "        print(new_stack.pop())\r\n",
    "    elif cmd_type == \"size\":\r\n",
    "        print(new_stack.size())\r\n",
    "    elif cmd_type == \"empty\":\r\n",
    "        print(new_stack.empty())\r\n",
    "    elif cmd_type == \"top\":\r\n",
    "        print(new_stack.top())\r\n",
    "     \r\n",
    "    return new_stack\r\n",
    "\r\n",
    "n = int(input())\r\n",
    "stack = []\r\n",
    "stack_size = 0\r\n",
    "new_stack = Stack(n)\r\n",
    "# new_stack.stack_list\r\n",
    "# new_stack.stack_size\r\n",
    "\r\n",
    "for _ in range(n):\r\n",
    "    # \"push 2\".split() => [\"push\", \"2\"]\r\n",
    "    # \"size\".split() => [\"size\"]\r\n",
    "    command = input().split()\r\n",
    "    new_stack = run_cmd_with_stack(new_stack, command)"
   ],
   "outputs": [
    {
     "output_type": "error",
     "ename": "TypeError",
     "evalue": "__init__() missing 1 required positional argument: 'n'",
     "traceback": [
      "\u001b[1;31m---------------------------------------------------------------------------\u001b[0m",
      "\u001b[1;31mTypeError\u001b[0m                                 Traceback (most recent call last)",
      "\u001b[1;32m<ipython-input-1-1b327d980769>\u001b[0m in \u001b[0;36m<module>\u001b[1;34m\u001b[0m\n\u001b[0;32m     51\u001b[0m \u001b[0mstack\u001b[0m \u001b[1;33m=\u001b[0m \u001b[1;33m[\u001b[0m\u001b[1;33m]\u001b[0m\u001b[1;33m\u001b[0m\u001b[1;33m\u001b[0m\u001b[0m\n\u001b[0;32m     52\u001b[0m \u001b[0mstack_size\u001b[0m \u001b[1;33m=\u001b[0m \u001b[1;36m0\u001b[0m\u001b[1;33m\u001b[0m\u001b[1;33m\u001b[0m\u001b[0m\n\u001b[1;32m---> 53\u001b[1;33m \u001b[0mnew_stack\u001b[0m \u001b[1;33m=\u001b[0m \u001b[0mStack\u001b[0m\u001b[1;33m(\u001b[0m\u001b[1;33m)\u001b[0m\u001b[1;33m\u001b[0m\u001b[1;33m\u001b[0m\u001b[0m\n\u001b[0m\u001b[0;32m     54\u001b[0m \u001b[1;31m# new_stack.stack_list\u001b[0m\u001b[1;33m\u001b[0m\u001b[1;33m\u001b[0m\u001b[1;33m\u001b[0m\u001b[0m\n\u001b[0;32m     55\u001b[0m \u001b[1;31m# new_stack.stack_size\u001b[0m\u001b[1;33m\u001b[0m\u001b[1;33m\u001b[0m\u001b[1;33m\u001b[0m\u001b[0m\n",
      "\u001b[1;31mTypeError\u001b[0m: __init__() missing 1 required positional argument: 'n'"
     ]
    }
   ],
   "metadata": {}
  }
 ],
 "metadata": {
  "orig_nbformat": 4,
  "language_info": {
   "name": "python"
  }
 },
 "nbformat": 4,
 "nbformat_minor": 2
}